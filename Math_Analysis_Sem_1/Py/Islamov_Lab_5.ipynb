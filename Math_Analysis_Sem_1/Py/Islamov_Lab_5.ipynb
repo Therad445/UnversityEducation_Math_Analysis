{
 "cells": [
  {
   "cell_type": "code",
   "execution_count": 1,
   "id": "81f3dda6-94e7-4809-bacb-419501c45bff",
   "metadata": {},
   "outputs": [],
   "source": [
    "import matplotlib.pyplot as plt\n",
    "import sympy as sp \n",
    "import numpy as np"
   ]
  },
  {
   "cell_type": "code",
   "execution_count": 2,
   "id": "2e94e45a-8fcb-433f-979c-520d7d3fd849",
   "metadata": {},
   "outputs": [
    {
     "name": "stdout",
     "output_type": "stream",
     "text": [
      "Variable   Type      Data/Info\n",
      "------------------------------\n",
      "np         module    <module 'numpy' from 'C:\\<...>ges\\\\numpy\\\\__init__.py'>\n",
      "plt        module    <module 'matplotlib.pyplo<...>\\\\matplotlib\\\\pyplot.py'>\n",
      "sp         module    <module 'sympy' from 'C:\\<...>ges\\\\sympy\\\\__init__.py'>\n",
      "x          Symbol    x\n"
     ]
    }
   ],
   "source": [
    "x = sp.Symbol('x')\n",
    "%whos"
   ]
  },
  {
   "cell_type": "code",
   "execution_count": 3,
   "id": "645e9f6a-cbd4-4d77-b285-c7670d5637d9",
   "metadata": {},
   "outputs": [
    {
     "name": "stdout",
     "output_type": "stream",
     "text": [
      "[a₀, a₁, a₂]\n",
      "   2                    2\n",
      "α⋅x  - 3⋅β⋅z + 2⋅x⋅y - z \n",
      "sin(π)\n",
      "0\n"
     ]
    }
   ],
   "source": [
    "import sympy as sp\n",
    "n = 3 # число переменных\n",
    "# a = список из символьных перменных a1 …, an :\n",
    "a = [sp.symbols('a%d' % i) for i in range(n)]\n",
    "# оператор for в данном выражении выступает в качестве квантора «для любых», а не в качестве обозначения цикла\n",
    "sp.pprint(a)\n",
    "from sympy.abc import x,y,z,alpha,beta \n",
    "sp.pprint(alpha*x**2+2*x*y-3*beta*z-z**2)\n",
    "from sympy.abc import pi\n",
    "sp.pprint(sp.sin(pi)) # просто греческая буква\n",
    "print(sp.sin(sp.pi))"
   ]
  },
  {
   "cell_type": "markdown",
   "id": "53580514-92e5-4957-a252-a49733f54903",
   "metadata": {},
   "source": [
    "## Упражнение 1.\n",
    "Используя символьное число вычислить значения \n",
    "при а затем проделать тоже самое с численным значением \n",
    "системной константы (из модуля numpy), снова вычислить . Проверить\n",
    "равенство полученных результатов с помощью логической операции. Проделать\n",
    "операцию с помощью конструкции [f(i) for i in M]. Объяснить результат."
   ]
  },
  {
   "cell_type": "code",
   "execution_count": 4,
   "id": "adb65e26-3d02-43d6-b7eb-4fc8e6b5cd40",
   "metadata": {},
   "outputs": [
    {
     "name": "stdout",
     "output_type": "stream",
     "text": [
      "⎡   ⎛π⎞             ⎛3⋅π⎞               ⎛5⋅π⎞               ⎛7⋅π⎞             \n",
      "⎢cos⎜─⎟, cos(π), cos⎜───⎟, cos(2⋅π), cos⎜───⎟, cos(3⋅π), cos⎜───⎟, cos(4⋅π), c\n",
      "⎣   ⎝2⎠             ⎝ 2 ⎠               ⎝ 2 ⎠               ⎝ 2 ⎠             \n",
      "\n",
      "  ⎛9⋅π⎞          ⎤\n",
      "os⎜───⎟, cos(5⋅π)⎥\n",
      "  ⎝ 2 ⎠          ⎦\n",
      "[6.123233995736766e-17, -1.0, -1.8369701987210297e-16, 1.0, 3.061616997868383e-16, -1.0, -4.286263797015736e-16, 1.0, 5.51091059616309e-16, -1.0]\n"
     ]
    }
   ],
   "source": [
    "import numpy as np\n",
    "sp.pprint([sp.cos(pi*i/2) for i in range (1,11)])\n",
    "print([np.cos(np.pi*i/2) for i in range (1,11)])\n"
   ]
  },
  {
   "cell_type": "code",
   "execution_count": 5,
   "id": "ba404f12-6f03-401a-b0ab-11cca8083282",
   "metadata": {},
   "outputs": [
    {
     "name": "stdout",
     "output_type": "stream",
     "text": [
      "   2         2   \n",
      "sin (x) + cos (x)\n",
      "\n",
      " after simplify = 1\n"
     ]
    }
   ],
   "source": [
    "import sympy as sp\n",
    "from sympy.abc import x,y\n",
    "v = sp.sin(x)**2+sp.cos(x)**2\n",
    "sp.pprint(v)\n",
    "print('\\n after simplify = '+str(sp.simplify(v)))\n",
    "# \\n означает перевод на новую строку"
   ]
  },
  {
   "cell_type": "markdown",
   "id": "ad597209-e3ac-4512-ad21-0a0922e32038",
   "metadata": {},
   "source": [
    "## Упражнение 3\n",
    "Разложить на множители и упростить."
   ]
  },
  {
   "cell_type": "code",
   "execution_count": 6,
   "id": "9d62dd2e-16f0-40b1-a008-f37394f002ee",
   "metadata": {},
   "outputs": [
    {
     "name": "stdout",
     "output_type": "stream",
     "text": [
      "x**6 + x**5 + x**4 + x**3 + x**2 + 4*x + 4\n"
     ]
    }
   ],
   "source": [
    "#from sympy.abc import x,y\n",
    "x,y = sp.symbols('x,y')\n",
    "y = (x**7+3*x**2-4)/(x-1)\n",
    "y = sp.factor(y)\n",
    "print(sp.simplify(y))"
   ]
  },
  {
   "cell_type": "markdown",
   "id": "aa9bb154-95ae-470f-ae22-84f426ad9397",
   "metadata": {},
   "source": [
    "## Упражнение 4\n",
    "Разложить на множители"
   ]
  },
  {
   "cell_type": "code",
   "execution_count": 7,
   "id": "303e4a70-1c2f-4a20-b484-49d2aee37de0",
   "metadata": {},
   "outputs": [
    {
     "name": "stdout",
     "output_type": "stream",
     "text": [
      "(x**2 - 2*x + 2)*(x**2 + 2*x + 2)\n",
      "(x + 1)*(x**6 - x**5 + x**4 - x**3 + x**2 - x + 1)\n",
      "(x**6 + x**5 + x**4 + x**3 + x**2 + 2*x + 4)*(x**6 + x**5 + x**4 + x**3 + x**2 + 3*x + 4)*(2*x**6 + 2*x**5 + 2*x**4 + 2*x**3 + 2*x**2 + 9*x + 8)\n"
     ]
    }
   ],
   "source": [
    "a = x**4 + 4\n",
    "b = x**7 + 1\n",
    "c = 2*x**3 + x**2*y - 5*x*y**2 + 2*y**3\n",
    "print(sp.factor(a), sp.factor(b), sp.factor(c), sep = '\\n')"
   ]
  },
  {
   "cell_type": "code",
   "execution_count": 8,
   "id": "70bcbc91-61f1-4f43-8d35-fb404d2794a8",
   "metadata": {},
   "outputs": [
    {
     "name": "stdout",
     "output_type": "stream",
     "text": [
      "(2 ≤ x ∧ x < ∞) ∨ (x ≤ -2 ∧ -∞ < x)\n"
     ]
    }
   ],
   "source": [
    "a = sp.solve_univariate_inequality(x**2>=4,x)\n",
    "# Без указаний дополнительных параметров мы получим символьное описание интервала \n",
    "sp.pprint(a)"
   ]
  },
  {
   "cell_type": "code",
   "execution_count": 9,
   "id": "9fe80e7e-7a34-455c-8d68-8eff63c63cc9",
   "metadata": {},
   "outputs": [
    {
     "name": "stdout",
     "output_type": "stream",
     "text": [
      "[-3, -2] ∪ [2, 3]\n"
     ]
    }
   ],
   "source": [
    "a = sp.solve_univariate_inequality(x**2>=4,x,relational=False)\n",
    "# указав relational=False мы запишем в а решение в форме множества\n",
    "b = sp.solve_univariate_inequality(x**2<=9,x,relational=False)\n",
    "# тоже самое делаем для решения второго неравенства\n",
    "c = sp.Intersection(a,b)\n",
    "# берем объдинение двух множеств и получам наш ответ\n",
    "sp.pprint(c)\n"
   ]
  },
  {
   "cell_type": "code",
   "execution_count": 10,
   "id": "8237826a-adfb-4653-9359-054e229ee9a8",
   "metadata": {},
   "outputs": [
    {
     "data": {
      "text/latex": [
       "$\\displaystyle \\left(-\\infty, -2.0\\right] \\cup \\left[2.0, \\infty\\right)$"
      ],
      "text/plain": [
       "Union(Interval(-oo, -2.000), Interval(2.000, oo))"
      ]
     },
     "execution_count": 10,
     "metadata": {},
     "output_type": "execute_result"
    }
   ],
   "source": [
    "sp.solve_univariate_inequality(sp.Abs(x**2-3.0)>3.0,x)\n",
    "sp.N(a,4) # округление до 4 десятичных з"
   ]
  },
  {
   "cell_type": "markdown",
   "id": "be16d811-c477-4fcf-861d-e098a1b45e4d",
   "metadata": {},
   "source": [
    "## Упражнение 5\n",
    "Решить неравенство "
   ]
  },
  {
   "cell_type": "code",
   "execution_count": 11,
   "id": "29834dc2-013d-484a-b664-4965846a4681",
   "metadata": {},
   "outputs": [
    {
     "data": {
      "text/latex": [
       "$\\displaystyle \\left(0.81773, \\infty\\right)$"
      ],
      "text/plain": [
       "Interval.open(0.81773, oo)"
      ]
     },
     "execution_count": 11,
     "metadata": {},
     "output_type": "execute_result"
    }
   ],
   "source": [
    "d = sp.solve_univariate_inequality(x**3 + 3*x > 3,x, relational = False)\n",
    "sp.N(d,5)"
   ]
  },
  {
   "cell_type": "code",
   "execution_count": 12,
   "id": "ce4eaa11-889e-47e2-b5c4-0c7d716d7996",
   "metadata": {},
   "outputs": [
    {
     "data": {
      "text/latex": [
       "$\\displaystyle \\left(45.6410785465307, \\infty\\right)$"
      ],
      "text/plain": [
       "Interval.open(45.6410785465307, oo)"
      ]
     },
     "execution_count": 12,
     "metadata": {},
     "output_type": "execute_result"
    }
   ],
   "source": [
    "from sympy.abc import n\n",
    "a = sp.solve_univariate_inequality(sp.Abs(((n**3+3*n+10)/(2*n**3-2*n+5))-0.5)<0.001,n,relational=False)\n",
    "b = sp.solve_univariate_inequality(n>0,n,relational=False)\n",
    "# отбросим отрицательные значения\n",
    "sp.Intersection(a,b)"
   ]
  },
  {
   "cell_type": "code",
   "execution_count": 13,
   "id": "4c56e646-5323-4c93-b2b6-5c3b14489816",
   "metadata": {},
   "outputs": [
    {
     "ename": "IndentationError",
     "evalue": "expected an indented block (1873704385.py, line 30)",
     "output_type": "error",
     "traceback": [
      "\u001b[1;36m  Input \u001b[1;32mIn [13]\u001b[1;36m\u001b[0m\n\u001b[1;33m    \u001b[0m\n\u001b[1;37m    ^\u001b[0m\n\u001b[1;31mIndentationError\u001b[0m\u001b[1;31m:\u001b[0m expected an indented block\n"
     ]
    }
   ],
   "source": [
    "import matplotlib.pyplot as plt\n",
    "import numpy as np\n",
    "import sympy.printing.pretty as pretty\n",
    "def illustration(xn, n0, a, epsilon):\n",
    "    x = np.arange(n0-2,n0+11)\n",
    "    k =  n0 + 12\n",
    "    fig = plt.figure()\n",
    "    ax = fig.add_subplot(1,1,1)\n",
    "    ax.set_ylim([a-5*epsilon, a+2*epsilon])\n",
    "    ax.set_xlim([n0 - 3, n0 + 12])\n",
    "    y = [xn.evalf(subs={n:i}) for i in range(n0-2, n0+11)] \n",
    "    plt.subplot()\n",
    "    plt.grid()\n",
    "\n",
    "    plt.quiver(0,a+ epsilon,k,0, scale = 1, color = 'green')\n",
    "    plt.quiver(0,a- epsilon,k,0, scale = 1, color = 'green')\n",
    "    plt.quiver(0,a,k,0, scale = 1, color = 'red')\n",
    "    plt.quiver(0,a+ epsilon,-k,0, scale = 1, color = 'green')\n",
    "    plt.quiver(0,a- epsilon,-k,0, scale = 1, color = 'green')\n",
    "    plt.quiver(0,a,-k,0, scale = 1, color = 'red')\n",
    "   \n",
    "    plt.plot(x,y, 'bo')\n",
    "    plt.show()\n",
    "    \n",
    "def lim(xn, a, epsilon):\n",
    "    a = sp.solveset(sp.Abs(sp.simplify(xn-a))<epsilon,n)\n",
    "    b = sp.solve_univariate_inequality(n>0,n,relational=False)\n",
    "    return(pretty(sp.Intersection(a,b)))\n",
    "def n0(xn, a, epsilon):\n",
    "    "
   ]
  },
  {
   "cell_type": "code",
   "execution_count": null,
   "id": "8c5fcb66-d10c-4c7a-9f9c-319bb860ce9f",
   "metadata": {},
   "outputs": [],
   "source": [
    "# # a1\n",
    "n = sp.symbols('n')\n",
    "illustration((n**3-1)/(2*n**3 + 2*n),8,0.5,0.01)"
   ]
  },
  {
   "cell_type": "code",
   "execution_count": null,
   "id": "c9015df9-50a9-47da-afdc-f1d2dd98bbe3",
   "metadata": {},
   "outputs": [],
   "source": [
    "print(lim((n**3-1)/(2*n**3 + 2*n),0.5,0.001))\n",
    "illustration((n**3-1)/(2*n**3 + 2*n),23,0.5,0.001)"
   ]
  },
  {
   "cell_type": "code",
   "execution_count": null,
   "id": "65e603ce-12e7-4791-8871-e73e807e8816",
   "metadata": {},
   "outputs": [],
   "source": [
    "lim((n**3+2*n)/(2*n**4 + 1),0,0.01) # b1\n",
    "illustration((n**3+2*n)/(2*n**4 + 1),51,0,0.01)"
   ]
  },
  {
   "cell_type": "code",
   "execution_count": null,
   "id": "90d404cb-527c-4d82-a883-f4e0c3f6d192",
   "metadata": {},
   "outputs": [],
   "source": [
    "lim((n**3+2*n)/(2*n**4 + 1),0,0.001) # b2\n",
    "illustration((n**3+2*n)/(2*n**4 + 1),501,0,0.001)"
   ]
  },
  {
   "cell_type": "markdown",
   "id": "34c415a6-55ea-4f5e-b882-ab611ea2f6e6",
   "metadata": {},
   "source": [
    "## Упражнение С1\n",
    "Решить неравенство , получить точный и\n",
    "приближённый ответ. Для поиска приближенного решения попробуйте задавать\n",
    "числа в неравенстве с плавающей точкой (3.0 или 1.0)"
   ]
  },
  {
   "cell_type": "code",
   "execution_count": null,
   "id": "5e65d2fb-7abd-4fc2-8112-50272f014ae7",
   "metadata": {},
   "outputs": [],
   "source": [
    "x = sp.symbols('x')\n",
    "y = sp.solve_univariate_inequality(x**3 - 3.0*x + 1 > 0, x,relational=False)\n",
    "\n",
    "print(y)\n",
    "print(sp.N(y,4))"
   ]
  },
  {
   "cell_type": "markdown",
   "id": "b9ec1479-dee5-447d-9370-4112ec2ceb64",
   "metadata": {},
   "source": [
    "## Упражнение С2. Для последовательностей "
   ]
  },
  {
   "cell_type": "code",
   "execution_count": null,
   "id": "be3bcfbb-c007-4b82-9e20-77de1b5821ca",
   "metadata": {},
   "outputs": [],
   "source": [
    "from sympy import oo\n",
    "x1 = (2*n**5 + 2*n**4 + 3)/(n**5 - 5*n -10000)\n",
    "x2 = ((2*n**5 +3)**0.5)/((n**5-5)**0.5)\n",
    "x3 = (n**3 + n**2)**(1/3) - (n**3 - n**2)**(1/3)\n",
    "\n",
    "print(lim(x1,sp.limit(x1,n,oo),0.01))\n",
    "print(lim(x1,sp.limit(x1,n,oo),0.001))\n",
    "print(lim(x2,sp.limit(x2,n,oo),0.01))\n",
    "print(lim(x2,sp.limit(x2,n,oo),0.001))\n",
    "print(lim(x3,sp.limit(x3,n,oo),0.01))\n",
    "print(lim(x3,sp.limit(x3,n,oo),0.001))"
   ]
  },
  {
   "cell_type": "code",
   "execution_count": null,
   "id": "7b166225-cf7f-47a6-ad0d-5ce1b9b8a3d4",
   "metadata": {},
   "outputs": [],
   "source": []
  },
  {
   "cell_type": "code",
   "execution_count": null,
   "id": "e2faf52c-c630-4d91-8abb-535d7c9633dd",
   "metadata": {},
   "outputs": [],
   "source": []
  },
  {
   "cell_type": "code",
   "execution_count": null,
   "id": "ffde12ee-c2d1-40cb-a900-663d136070eb",
   "metadata": {},
   "outputs": [],
   "source": []
  },
  {
   "cell_type": "code",
   "execution_count": null,
   "id": "bb7e32a7-1a41-4461-baa0-0bb3369a089b",
   "metadata": {},
   "outputs": [],
   "source": []
  },
  {
   "cell_type": "code",
   "execution_count": null,
   "id": "26153181-453a-4de9-b951-d1db03db9d3c",
   "metadata": {},
   "outputs": [],
   "source": []
  }
 ],
 "metadata": {
  "kernelspec": {
   "display_name": "Python 3 (ipykernel)",
   "language": "python",
   "name": "python3"
  },
  "language_info": {
   "codemirror_mode": {
    "name": "ipython",
    "version": 3
   },
   "file_extension": ".py",
   "mimetype": "text/x-python",
   "name": "python",
   "nbconvert_exporter": "python",
   "pygments_lexer": "ipython3",
   "version": "3.9.13"
  }
 },
 "nbformat": 4,
 "nbformat_minor": 5
}
