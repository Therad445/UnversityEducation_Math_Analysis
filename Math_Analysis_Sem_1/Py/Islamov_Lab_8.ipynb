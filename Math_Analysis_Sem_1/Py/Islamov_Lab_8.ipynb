{
 "cells": [
  {
   "cell_type": "code",
   "execution_count": 1,
   "id": "1b5f3dd1-0e87-446f-9e56-013ab85d7143",
   "metadata": {},
   "outputs": [],
   "source": [
    "import matplotlib.pyplot as plt\n",
    "import sympy as sp \n",
    "import numpy as np\n",
    "from sympy.abc import x"
   ]
  },
  {
   "cell_type": "markdown",
   "id": "ab2d9349-79f1-4b3c-a88b-96442f71d30e",
   "metadata": {},
   "source": [
    "## Упражнение 1"
   ]
  },
  {
   "cell_type": "code",
   "execution_count": 2,
   "id": "12659fef-3d23-476e-8065-bb8d75a570f2",
   "metadata": {
    "jp-MarkdownHeadingCollapsed": true,
    "tags": []
   },
   "outputs": [
    {
     "name": "stdout",
     "output_type": "stream",
     "text": [
      "[0.0, -0.010000000000000002, -0.04000000000000001, -0.09, -0.16000000000000003, -0.25, -0.36, -0.48999999999999994, -0.6400000000000001, -0.81, -1.0]\n",
      "[0.0, -0.41000000000000014, -0.8400000000000007, -1.2899999999999991, -1.7599999999999998, -2.25, -2.7600000000000007, -3.290000000000001, -3.839999999999999, -4.41, -5.0]\n",
      "[0.0, -1.809999999999988, -3.6399999999999864, -5.490000000000009, -7.360000000000014, -9.25, -11.159999999999997, -13.08999999999999, -15.04000000000002, -17.010000000000005, -19.0]\n"
     ]
    }
   ],
   "source": [
    "def func1(x):\n",
    "    f = x**2\n",
    "    return f\n",
    "arr1 = []\n",
    "arr2 = [] \n",
    "arr3 = []\n",
    "for i in range(11):\n",
    "    arr1.append(func1(0) - func1(0+i/10))\n",
    "    arr2.append(func1(2) - func1(2+i/10))\n",
    "    arr3.append(func1(9) - func1(9+i/10))\n",
    "\n",
    "print(arr1,arr2,arr3,sep='\\n')"
   ]
  },
  {
   "cell_type": "markdown",
   "id": "8dbdedd2-0d8d-4ef4-a692-2d3222c6b3c1",
   "metadata": {},
   "source": [
    "## Упражнение 2"
   ]
  },
  {
   "cell_type": "code",
   "execution_count": 3,
   "id": "e23df6bb-efd5-4911-8039-0d2bdf799f16",
   "metadata": {},
   "outputs": [
    {
     "name": "stdout",
     "output_type": "stream",
     "text": [
      "[ 7.50000000e-01  6.97500000e-01  6.40000000e-01  5.77500000e-01\n",
      "  5.10000000e-01  4.37500000e-01  3.60000000e-01  2.77500000e-01\n",
      "  1.90000000e-01  9.75000000e-02  2.22044605e-16 -1.02500000e-01\n",
      " -2.10000000e-01 -3.22500000e-01 -4.40000000e-01 -5.62500000e-01\n",
      " -6.90000000e-01 -8.22500000e-01 -9.60000000e-01 -1.10250000e+00\n",
      " -1.25000000e+00]\n"
     ]
    }
   ],
   "source": [
    "def func2(x):\n",
    "    f = x**2\n",
    "    return f\n",
    "dx = np.arange(-0.5,0.55,0.05)\n",
    "print(func2(1) - func2(1 + dx))"
   ]
  },
  {
   "cell_type": "markdown",
   "id": "b82aa5cf-96dc-4636-b497-24a0cdda86c1",
   "metadata": {},
   "source": [
    "## Упражнение 3"
   ]
  },
  {
   "cell_type": "code",
   "execution_count": 4,
   "id": "ba64a027-23f6-4fa0-bbe6-fded6f894545",
   "metadata": {},
   "outputs": [
    {
     "name": "stdout",
     "output_type": "stream",
     "text": [
      "[0.49987506 0.49875621 0.48808848]\n",
      "[0.70675358 0.70360617 0.67489888]\n",
      "[0.35350921 0.35311255 0.34924112]\n"
     ]
    }
   ],
   "source": [
    "x = sp.symbols('x')\n",
    "def finder(func,x0,dx):\n",
    "    y = sp.lambdify(x, func)\n",
    "    ans = (y(x0 + dx) - y(x0))/dx\n",
    "    return ans\n",
    "t = np.array([1,0.5,2])\n",
    "dx = np.array([10**i for i in range(-3,0)])\n",
    "for i in t:\n",
    "    print(finder(x**0.5,i,dx))"
   ]
  },
  {
   "cell_type": "markdown",
   "id": "c7b18af5-7ecc-4135-b587-9fecdbee0a27",
   "metadata": {},
   "source": [
    "## Упражнение 4"
   ]
  },
  {
   "cell_type": "code",
   "execution_count": 5,
   "id": "3a4d3b9f-1644-4b30-a5b1-5c1054171a32",
   "metadata": {},
   "outputs": [
    {
     "name": "stdout",
     "output_type": "stream",
     "text": [
      "1.3867749251610384\n",
      "1.3858140190949886\n",
      "2.773549850322077\n",
      "2.771628038189533\n",
      "0.0866734328225649\n",
      "0.08661337619342291\n"
     ]
    }
   ],
   "source": [
    "x0 = np.array([1,2,-3], dtype=float)\n",
    "dx = np.array([0.001,-0.001])\n",
    "\n",
    "def func0(x0):\n",
    "    return 2**(x0)\n",
    "\n",
    "def finder (func1, x0, dx):\n",
    "    y = func1(x0)\n",
    "    ydy = func1(x0+dx)\n",
    "    return (ydy-y)/dx\n",
    "\n",
    "for i in x0:\n",
    "    for j in dx:\n",
    "        print(finder(func0, i, j))"
   ]
  },
  {
   "cell_type": "code",
   "execution_count": 6,
   "id": "4c936865-6314-402b-8e39-2420abcafb55",
   "metadata": {},
   "outputs": [
    {
     "name": "stdout",
     "output_type": "stream",
     "text": [
      "0.3332222839094179\n",
      "0.3334445062139757\n",
      "0.20995185356076362\n",
      "0.2100218491807304\n",
      "0.16026776110455998\n",
      "0.1602321500029369\n"
     ]
    }
   ],
   "source": [
    "x0 = np.array([1,2,-3])\n",
    "dx = np.array([0.001,-0.001])\n",
    "\n",
    "def func0(x0):\n",
    "    return np.cbrt(x0)\n",
    "\n",
    "def finder (func1, x0, dx):\n",
    "    y = func1(x0)\n",
    "    ydy = func1(x0+dx)\n",
    "    return (ydy-y)/dx\n",
    "\n",
    "for i in x0:\n",
    "    for j in dx:\n",
    "        print(finder(func0, i, j))"
   ]
  },
  {
   "cell_type": "markdown",
   "id": "7cd123d8-cca7-4e53-a571-39e719438688",
   "metadata": {},
   "source": [
    "## Упражнение 5"
   ]
  },
  {
   "cell_type": "code",
   "execution_count": 14,
   "id": "c7713cde-e52b-40b0-8fa2-fd748a753cee",
   "metadata": {},
   "outputs": [
    {
     "name": "stdout",
     "output_type": "stream",
     "text": [
      "0.333222283909418\n",
      "0.333444506213976\n",
      "0.209951853560764\n",
      "0.210021849180730\n",
      "0.160267761104560\n",
      "0.160232150002937\n"
     ]
    }
   ],
   "source": [
    "x0 = np.array([1,2,-3])\n",
    "dx = np.array([0.001,-0.001])\n",
    "\n",
    "def func0(x0):\n",
    "    return np.cbrt(x0)\n",
    "\n",
    "def founder (func1, x0, dx):\n",
    "    y = func1(x0)\n",
    "    ydy = func1(x0+dx)\n",
    "    proizvod = sp.limit((ydy-y)/dx,dx,0)\n",
    "    return proizvod\n",
    "\n",
    "for i in x0:\n",
    "    for j in dx:\n",
    "        print(founder(func0, i, j))\n",
    "\n"
   ]
  },
  {
   "cell_type": "markdown",
   "id": "26ec3723-1b9d-43f7-9a46-613dd69400f8",
   "metadata": {},
   "source": [
    "## Упражнение 6"
   ]
  },
  {
   "cell_type": "code",
   "execution_count": 8,
   "id": "d6dc0730-1ba1-41a8-b884-228ffeb500ee",
   "metadata": {},
   "outputs": [
    {
     "name": "stdout",
     "output_type": "stream",
     "text": [
      "[atan(sqrt(x))/(sqrt(x)*(x + 1)), 0.580279834244736]\n",
      "[2*3**asin(x**2)*x*log(3)/sqrt(1 - x**4), 1.36324364610782*log(3)]\n"
     ]
    }
   ],
   "source": [
    "x= sp.symbols('x')\n",
    "def tru_dif(func, x0):\n",
    "    y= sp.diff(func,x,1)\n",
    "    return [y,y.subs(x,x0)]\n",
    "print(tru_dif((sp.atan(sp.sqrt(x)))**2, 0.5))\n",
    "print(tru_dif( 3**(sp.asin(x**2)), 0.5))\n",
    "    \n",
    "    "
   ]
  },
  {
   "cell_type": "markdown",
   "id": "76e4dfe2-d05e-4fa8-bd19-eb61da60115e",
   "metadata": {},
   "source": [
    "## Упражнеине 7"
   ]
  },
  {
   "cell_type": "code",
   "execution_count": 9,
   "id": "bb431eaf-1e4e-4fee-a00a-a010423e37b3",
   "metadata": {},
   "outputs": [
    {
     "data": {
      "image/png": "[encoded data removed]",
      "text/plain": [
       "<Figure size 432x288 with 1 Axes>"
      ]
     },
     "metadata": {
      "needs_background": "light"
     },
     "output_type": "display_data"
    }
   ],
   "source": [
    "def kasat(func, x0):\n",
    "    y1 = sp.lambdify(x,func)\n",
    "    t = np.linspace(x0-1,x0+1,500)\n",
    "    proizv = sp.diff(func,x,1)\n",
    "    y = lambda t: y1(x0) + proizv.subs(x,x0)*(t - x0)\n",
    "    \n",
    "    plt.plot(t,y(t), 'k')\n",
    "    plt.plot(t, y1(t), 'g')\n",
    "    plt.plot(x0, y(x0), 'ro')\n",
    "    plt.grid()\n",
    "    plt.axhline()\n",
    "    plt.axvline()\n",
    "kasat((sp.cos(3*x))**3, np.pi/4)"
   ]
  },
  {
   "cell_type": "code",
   "execution_count": 10,
   "id": "93166873-266c-4437-9033-12d9266f4889",
   "metadata": {},
   "outputs": [
    {
     "data": {
      "image/png": "[encoded data removed]",
      "text/plain": [
       "<Figure size 432x288 with 1 Axes>"
      ]
     },
     "metadata": {
      "needs_background": "light"
     },
     "output_type": "display_data"
    }
   ],
   "source": [
    "kasat((np.e)**(2*x), 1)"
   ]
  },
  {
   "cell_type": "markdown",
   "id": "ed8adf00-7031-416e-8a12-39b4cb3eaf3f",
   "metadata": {},
   "source": [
    "## C1"
   ]
  },
  {
   "cell_type": "code",
   "execution_count": 11,
   "id": "a21227b4-ef5a-41fc-b9dc-b7675d87437f",
   "metadata": {},
   "outputs": [
    {
     "name": "stdout",
     "output_type": "stream",
     "text": [
      "-1.35241314809081\n",
      "-1.35649134314142\n",
      "-0.0578759172651828\n",
      "-0.0580320401109245\n",
      "-0.00602254127674180\n",
      "-0.00601103853127300\n"
     ]
    }
   ],
   "source": [
    "x0 = np.array([1,2,-3], dtype=float)\n",
    "dx = np.array([0.001,-0.001])\n",
    "\n",
    "def func0(x0):\n",
    "    return (sp.sin(1/x0))**5\n",
    "\n",
    "def finder (func1, x0, dx):\n",
    "    y = func1(x0)\n",
    "    ydy = func1(x0+dx)\n",
    "    return (ydy-y)/dx\n",
    "\n",
    "for i in x0:\n",
    "    for j in dx:\n",
    "        print(finder(func0, i, j))"
   ]
  },
  {
   "cell_type": "markdown",
   "id": "fd89b936-4c39-4cf0-a387-ca4bbd375699",
   "metadata": {},
   "source": [
    "## C2"
   ]
  },
  {
   "cell_type": "code",
   "execution_count": 28,
   "id": "46310623-bf53-44ce-bd21-725307b61586",
   "metadata": {},
   "outputs": [
    {
     "name": "stdout",
     "output_type": "stream",
     "text": [
      "-oo\n",
      "oo\n",
      "-oo\n"
     ]
    }
   ],
   "source": [
    "x0 = np.array([1,2,-3], dtype=float)\n",
    "def po_opr(func1,x0):\n",
    "    dx = sp.symbols('dx')\n",
    "    y = func1(x0)\n",
    "    ydy = func1(x0+dx)\n",
    "    proizvod = sp.limit((ydy-y)/dx,dx,0)\n",
    "    return proizvod\n",
    "for i in x0:\n",
    "    print(po_opr(lambda x:(sp.sin(1/x))**5, i))\n"
   ]
  },
  {
   "cell_type": "markdown",
   "id": "175c1d27-a3b8-4caf-8dd2-3d9d89b9cdb5",
   "metadata": {},
   "source": [
    "## C3"
   ]
  },
  {
   "cell_type": "code",
   "execution_count": 26,
   "id": "d65a90a5-5cf8-439c-854e-66fc2534d473",
   "metadata": {},
   "outputs": [
    {
     "name": "stdout",
     "output_type": "stream",
     "text": [
      "[-2*x*log(3)/((x**2 + 1)*log(x**2 + 1)**2*acos(sin(x))**3) + 3*log(3)*cos(x)/(sqrt(1 - sin(x)**2)*log(x**2 + 1)*acos(sin(x))**4), -2.85972674560736*log(3)]\n",
      "-2.85972674560736*log(3)\n"
     ]
    }
   ],
   "source": [
    "y = sp.log(3,x**2 +1)/((sp.acos(sp.sin(x)))**3)\n",
    "y1 = sp.diff(y,x,1)\n",
    "print(tru_dif(y,0.5))\n",
    "print(y1.subs(x,0.5))"
   ]
  },
  {
   "cell_type": "code",
   "execution_count": null,
   "id": "ad53b7c5-fa25-4276-b37f-806f235671f8",
   "metadata": {},
   "outputs": [],
   "source": []
  }
 ],
 "metadata": {
  "kernelspec": {
   "display_name": "Python 3 (ipykernel)",
   "language": "python",
   "name": "python3"
  },
  "language_info": {
   "codemirror_mode": {
    "name": "ipython",
    "version": 3
   },
   "file_extension": ".py",
   "mimetype": "text/x-python",
   "name": "python",
   "nbconvert_exporter": "python",
   "pygments_lexer": "ipython3",
   "version": "3.9.13"
  }
 },
 "nbformat": 4,
 "nbformat_minor": 5
}
