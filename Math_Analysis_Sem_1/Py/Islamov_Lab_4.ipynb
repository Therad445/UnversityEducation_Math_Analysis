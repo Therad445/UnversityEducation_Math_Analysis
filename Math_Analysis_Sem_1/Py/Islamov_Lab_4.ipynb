{
 "cells": [
  {
   "cell_type": "code",
   "execution_count": 1,
   "id": "6697a5f1-9834-4ae2-b2d7-5ac5c6b488a3",
   "metadata": {},
   "outputs": [
    {
     "name": "stdout",
     "output_type": "stream",
     "text": [
      "[ True  True False]\n",
      "[ True  True False]\n"
     ]
    }
   ],
   "source": [
    "import numpy as np\n",
    "x =np.array([True, True, False])\n",
    "print(x)\n",
    "y =np.array([1,1,0], dtype=bool)\n",
    "print(y)\n"
   ]
  },
  {
   "cell_type": "code",
   "execution_count": 2,
   "id": "081efb67-3f50-49bb-a549-ecb262cc8997",
   "metadata": {},
   "outputs": [
    {
     "name": "stdout",
     "output_type": "stream",
     "text": [
      "[ True False  True]\n",
      "[False False  True]\n",
      "[[ 2  3  4]\n",
      " [-1 -1 -1]]\n",
      "[[-2  3  5]\n",
      " [ 2  3 -7]]\n",
      "[[ True  True False]\n",
      " [False False  True]]\n",
      "[[ 2  3 -4]\n",
      " [ 0 -2  3]]\n",
      "[[False False  True]\n",
      " [False  True False]]\n",
      "False\n",
      "False\n",
      "True\n"
     ]
    }
   ],
   "source": [
    "A = np.array([1, 2, 3])\n",
    "B = np.array([-1,2, 4])\n",
    "print(A!=B)\n",
    "print(A<B)\n",
    "x = np.array([[2,3,4],[-1,-1,-1]])\n",
    "y = np.array([[-2,3,5],[2,3,-7]])\n",
    "print(x)\n",
    "print(y)\n",
    "print(x>=y) # поэлементное сравнение массивов\n",
    "\n",
    "h = np.array([[2, 3, -4],[0, -2, 3]])\n",
    "print(h)\n",
    "print(h<0) # проверим какие из элементов отрицательные\n",
    "\n",
    "x=np.array([1,2])\n",
    "y=np.array([2,4])\n",
    "z=np.array([2,4,3])\n",
    "print(np.array_equal(x,y))\n",
    "print(np.array_equal(y,z))\n",
    "print(np.array_equal(y,z[:2]))\n"
   ]
  },
  {
   "cell_type": "code",
   "execution_count": 15,
   "id": "427a5748-cdb4-46ec-99f6-9229ef8d1721",
   "metadata": {},
   "outputs": [
    {
     "name": "stdout",
     "output_type": "stream",
     "text": [
      "[ 1.41421356e+00+1.41421356e+00j  1.22464680e-16+2.00000000e+00j\n",
      " -1.41421356e+00+1.41421356e+00j -2.00000000e+00+2.44929360e-16j\n",
      " -1.41421356e+00-1.41421356e+00j -3.67394040e-16-2.00000000e+00j\n",
      "  1.41421356e+00-1.41421356e+00j  2.00000000e+00-4.89858720e-16j]\n",
      "[ True False False False  True False False False]\n",
      "left: [False False  True  True  True  True False False]\n",
      "real: [False False False False False False False False]\n",
      "arg(pi)/3 [False  True  True  True False False False False]\n"
     ]
    }
   ],
   "source": [
    "#Task 1\n",
    "x = complex(256,0)\n",
    "r = np.abs(x)\n",
    "n = 8\n",
    "k = np.arange(1,9)\n",
    "ans = r**(1/n)*(np.cos(2*np.pi*k/n) + 1j*np.sin(2*np.pi*k/n))\n",
    "print(ans)\n",
    "print(np.isclose(np.real(ans), np.imag(ans)))\n",
    "print(\"left:\", np.real(ans)<0)\n",
    "print(\"real:\", np.imag(ans)==0)\n",
    "print(\"arg(pi)/3\", np.angle(ans)>np.pi/3)"
   ]
  },
  {
   "cell_type": "code",
   "execution_count": 10,
   "id": "0f452f1d-b722-4bd0-8edd-198dbf7e0e92",
   "metadata": {},
   "outputs": [
    {
     "name": "stdout",
     "output_type": "stream",
     "text": [
      " x = [False False  True  True]\n",
      " y = [False  True False  True]\n",
      "x and y = [False False False  True]\n",
      "x or y = [False  True  True  True]\n",
      "x xor y = [False  True  True False]\n",
      " not x = [ True  True False False]\n"
     ]
    }
   ],
   "source": [
    "x = np.array([0,0,1,1], dtype=bool)\n",
    "y = np.array([0,1,0,1], dtype=bool)\n",
    "t = np.array([1<2, 5>3])\n",
    "print(' x = '+str(x))\n",
    "print(' y = '+str(y))\n",
    "print('x and y = '+str(x&y))\n",
    "print('x or y = '+str(x|y))\n",
    "print('x xor y = '+str(x^y))\n",
    "print(' not x = '+str(~x))"
   ]
  },
  {
   "cell_type": "code",
   "execution_count": 12,
   "id": "fc4ce8ec-9776-46ce-8f9e-e162bbef9eb2",
   "metadata": {},
   "outputs": [
    {
     "name": "stdout",
     "output_type": "stream",
     "text": [
      "z1=(28-4j)\n",
      "z2=(20+10j)\n",
      "Both of |z_{1}|<29 and |z_{2}|<29 --> True\n",
      "Any of |z_{1}|>32 or |z_{2}|>32 --> False\n"
     ]
    }
   ],
   "source": [
    "z1 = 28-4j\n",
    "z2 = 20+10j\n",
    "print('z1='+str(z1))\n",
    "print('z2='+str(z2))\n",
    "print('Both of |z_{1}|<29 and |z_{2}|<29 --> '+ str((np.abs(z1)<29) & (np.abs(z2)<29)) )\n",
    "# проверим, верно ли, что модули обоих чисел меньше 29.\n",
    "print('Any of |z_{1}|>32 or |z_{2}|>32 --> '+ str((np.abs(z1)>32) | (np.abs(z2)>32)) )\n",
    "# верно ли, что модуль хотя бы одного из них больше 3"
   ]
  },
  {
   "cell_type": "code",
   "execution_count": 17,
   "id": "9c7429b3-2c47-4c9f-b497-8e5a67a3a067",
   "metadata": {},
   "outputs": [
    {
     "name": "stdout",
     "output_type": "stream",
     "text": [
      "False\n",
      "True\n"
     ]
    }
   ],
   "source": [
    "#Task 2\n",
    "z1 = complex(2,-3)\n",
    "z2 = complex(5,1)\n",
    "print((np.angle(z1) > np.pi/3) and (np.angle(z2) < 5*np.pi/6))\n",
    "print((np.real(2*z2+3*z1) < 8) or not(np.isclose(np.imag(z1-z2),2)))"
   ]
  },
  {
   "cell_type": "code",
   "execution_count": 19,
   "id": "8aa625a4-5acc-4b60-9092-573ad2002777",
   "metadata": {},
   "outputs": [
    {
     "name": "stdout",
     "output_type": "stream",
     "text": [
      "A [1 2 3 4]\n",
      "A>=2 [2 3 4]\n",
      "B=A(L) [2 3]\n",
      "A(L)=-5 [ 1 -5 -5  4]\n"
     ]
    }
   ],
   "source": [
    "A = np.array([1,2,3,4])\n",
    "print('A '+str(A))\n",
    "print('A>=2 '+str(A[A>=2]))\n",
    "# выбираем элементы из массива A, которые >= 2\n",
    "L = np.array([0,1,1,0], dtype=bool)\n",
    "B = A[L]\n",
    "# прочитаем элементы с помощью логических индексов L\n",
    "A[L] = -5\n",
    "# перезапишем на эти позиции в массиве А новые значения\n",
    "print('B=A(L) '+str(B))\n",
    "print('A(L)=-5 '+str(A))"
   ]
  },
  {
   "cell_type": "code",
   "execution_count": 22,
   "id": "90edaae8-36c1-48f4-9700-06dc4e801d24",
   "metadata": {},
   "outputs": [
    {
     "name": "stdout",
     "output_type": "stream",
     "text": [
      "[ 1.000e+00+3.000e+00j -8.000e+00+6.000e+00j -2.600e+01-1.800e+01j\n",
      "  2.800e+01-9.600e+01j  3.160e+02-1.200e+01j  3.520e+02+9.360e+02j\n",
      " -2.456e+03+1.992e+03j -8.432e+03-5.376e+03j]\n",
      "[ 28. -96.j 316. -12.j 352.+936.j]\n",
      "[ 28.-96.j 316.-12.j]\n"
     ]
    }
   ],
   "source": [
    "#Task 3\n",
    "z = complex(1,3)\n",
    "k = np.arange(1,9)\n",
    "z = z**k\n",
    "f1 = np.real(z)>2\n",
    "f2 = np.imag(z) <= np.real(z)\n",
    "print(z, z[f1], z[f2], sep='\\n')\n"
   ]
  },
  {
   "cell_type": "code",
   "execution_count": 31,
   "id": "2c4cc5ef-1b1d-41ec-ac28-e964fa0d4dd5",
   "metadata": {},
   "outputs": [
    {
     "name": "stdout",
     "output_type": "stream",
     "text": [
      "[3.-1.j 3.-2.j 0.+0.j 0.+0.j 0.+0.j 0.+0.j 3.-7.j 3.-8.j 3.-9.j]\n"
     ]
    }
   ],
   "source": [
    "#Task 4\n",
    "k = np.arange(1,10)\n",
    "z = 3 - 1j*k\n",
    "r = np.abs(z)\n",
    "ysl1 = r>4\n",
    "ysl2 = r<=7\n",
    "ysl = ysl1 & ysl2\n",
    "z[ysl] = 0\n",
    "print(z)"
   ]
  },
  {
   "cell_type": "code",
   "execution_count": 32,
   "id": "da159bdd-225b-48ae-97df-bf2d9b042b0e",
   "metadata": {},
   "outputs": [
    {
     "data": {
      "text/plain": [
       "Text(0, 0.5, 'Im(z)')"
      ]
     },
     "execution_count": 32,
     "metadata": {},
     "output_type": "execute_result"
    },
    {
     "data": {
      "image/png": "[encoded data removed]",
      "text/plain": [
       "<Figure size 432x288 with 1 Axes>"
      ]
     },
     "metadata": {
      "needs_background": "light"
     },
     "output_type": "display_data"
    }
   ],
   "source": [
    "import numpy as np\n",
    "import numpy.random as rng\n",
    "import matplotlib.pyplot as plt\n",
    "x = 3 - 6*rng.rand(10000) # 10_000 точек x на отрезке [-3;3]\n",
    "y = 3 - 6*rng.rand(10000) # 10_000 точек y на отрезке [-3;3]\n",
    "z = x+ 1j*y\n",
    "L = (np.abs(z+1j)>=1.5) # логический индекс для отбора значений\n",
    "plt.plot(x[L],y[L],'.')\n",
    "plt.axis('equal')\n",
    "plt.grid(True)\n",
    "plt.axhline(y=0, color='k')\n",
    "plt.axvline(x=0, color='k')\n",
    "plt.title('$| z+i | \\geq 1.5 $')\n",
    "plt.xlabel('Re(z)')\n",
    "plt.ylabel('Im(z)')\n"
   ]
  },
  {
   "cell_type": "code",
   "execution_count": null,
   "id": "0c75bb8e-efbb-4d59-81b3-fd06b622e517",
   "metadata": {},
   "outputs": [],
   "source": []
  }
 ],
 "metadata": {
  "kernelspec": {
   "display_name": "Python 3 (ipykernel)",
   "language": "python",
   "name": "python3"
  },
  "language_info": {
   "codemirror_mode": {
    "name": "ipython",
    "version": 3
   },
   "file_extension": ".py",
   "mimetype": "text/x-python",
   "name": "python",
   "nbconvert_exporter": "python",
   "pygments_lexer": "ipython3",
   "version": "3.9.13"
  }
 },
 "nbformat": 4,
 "nbformat_minor": 5
}
