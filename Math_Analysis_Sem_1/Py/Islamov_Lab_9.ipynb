{
 "cells": [
  {
   "cell_type": "code",
   "execution_count": 1,
   "id": "753fccef-4ef4-4b9e-9217-a6643c4dc757",
   "metadata": {},
   "outputs": [],
   "source": [
    "import matplotlib.pyplot as plt\n",
    "import sympy as sp \n",
    "import numpy as np\n",
    "from sympy.abc import x"
   ]
  },
  {
   "cell_type": "code",
   "execution_count": 2,
   "id": "6336641c-5f56-4ef9-9efb-73f2352e5d51",
   "metadata": {},
   "outputs": [
    {
     "name": "stdout",
     "output_type": "stream",
     "text": [
      "-57\n",
      "Значение полинома в точке x = -2 равно -57.\n"
     ]
    }
   ],
   "source": [
    "\n",
    "pol = [1, 0 , 5, 7, 8, 3]\n",
    "k = np.polyval(pol,-2)\n",
    "print(k)\n",
    "print(f\"Значение полинома в точке x = -2 равно {np.polyval(pol, -2)}.\")"
   ]
  },
  {
   "cell_type": "markdown",
   "id": "dc222b98-7b3d-4662-b74f-6e6cb6fa199e",
   "metadata": {},
   "source": [
    "## Упражнение 1"
   ]
  },
  {
   "cell_type": "code",
   "execution_count": 3,
   "id": "7764ceb4-08ef-4d5f-b056-0883300498de",
   "metadata": {},
   "outputs": [
    {
     "name": "stdout",
     "output_type": "stream",
     "text": [
      "8.2\n",
      "17254.2\n",
      "341.91770880000024\n",
      "3364.6111322888664\n"
     ]
    }
   ],
   "source": [
    "pol = [1,0,0,3.2,0,3,0,3]\n",
    "arr = np.array([-1,4,2.2,np.pi])\n",
    "for i in arr:\n",
    "    print(np.polyval(pol,i))"
   ]
  },
  {
   "cell_type": "code",
   "execution_count": 4,
   "id": "c63c5899-e289-4318-bfbb-a01ef0c7d3cd",
   "metadata": {},
   "outputs": [
    {
     "name": "stdout",
     "output_type": "stream",
     "text": [
      "Корни полинома равны:\n",
      " 0.759+2.283j\n",
      " 0.759-2.283j\n",
      "-0.500+0.866j\n",
      "-0.500-0.866j\n",
      "-0.518+0.000j\n"
     ]
    }
   ],
   "source": [
    "pol = [1, 0, 5, 7, 8, 3]\n",
    "print(f\"Корни полинома равны:\")\n",
    "for root in np.roots(pol):\n",
    "    print(f\"{root : .3f}\")"
   ]
  },
  {
   "cell_type": "code",
   "execution_count": 5,
   "id": "adf152b5-2d46-40e4-9870-16e3a77c8e9b",
   "metadata": {},
   "outputs": [
    {
     "data": {
      "text/plain": [
       "array([1.        , 0.        , 4.99992137, 7.00004405, 7.99978005,\n",
       "       2.99990268])"
      ]
     },
     "execution_count": 5,
     "metadata": {},
     "output_type": "execute_result"
    }
   ],
   "source": [
    "np.poly([0.7592 + 2.2827j, 0.7592 - 2.2827j, -0.5000 + 0.8660j, -0.5000 -\n",
    "0.8660j, -0.5184])"
   ]
  },
  {
   "cell_type": "markdown",
   "id": "c54b5052-7a81-43bc-838d-7c4bd685d998",
   "metadata": {},
   "source": [
    "## Упражнение 2"
   ]
  },
  {
   "cell_type": "code",
   "execution_count": 6,
   "id": "9cbe20c5-80df-4f0e-ab19-464ec1c58e6d",
   "metadata": {},
   "outputs": [
    {
     "name": "stdout",
     "output_type": "stream",
     "text": [
      "[-0.95858847+0.79517756j -0.95858847-0.79517756j -0.15141803+1.25356873j\n",
      " -0.15141803-1.25356873j  1.09270397+0.46782683j  1.09270397-0.46782683j\n",
      " -0.51793877+0.j          0.55254384+0.j        ]\n",
      "[ 1.00000000e+00  1.77635684e-15 -1.88737914e-15 -1.50000000e+00\n",
      " -8.54871729e-15 -4.32986980e-15  3.50000000e+00  2.66453526e-15\n",
      " -1.00000000e+00]\n"
     ]
    }
   ],
   "source": [
    "pol1 = [2,0,0,-3,0,0,7,0,-2]\n",
    "a = np.roots(pol1)\n",
    "print(a)\n",
    "print(np.poly(a))"
   ]
  },
  {
   "cell_type": "markdown",
   "id": "3641a8e8-3971-442b-99dd-82abe6172d3c",
   "metadata": {},
   "source": [
    "## Упражнение 3 "
   ]
  },
  {
   "cell_type": "code",
   "execution_count": 7,
   "id": "96674ee3-48af-40b7-9167-d9222204a9e3",
   "metadata": {},
   "outputs": [
    {
     "name": "stdout",
     "output_type": "stream",
     "text": [
      "[1.17241463-0.j         1.12303929-0.69170274j 1.29944161+0.1278215j\n",
      " 1.79893266-0.02362046j]\n",
      "[-2.29132666+0.41089614j  0.29132666-0.41089614j]\n"
     ]
    }
   ],
   "source": [
    "pol1 = [1,2,0,0,-3,0,4]\n",
    "pol2 = [1,0,-3,1]\n",
    "a = np.roots(pol1)\n",
    "b = np.roots(pol2)\n",
    "c,d = np.polydiv(a,b)\n",
    "print(c,d,sep = '\\n')"
   ]
  },
  {
   "cell_type": "markdown",
   "id": "38ca102c-85bf-4a8c-9c21-09c0a0f66ad7",
   "metadata": {},
   "source": [
    "## Упражнение 4"
   ]
  },
  {
   "cell_type": "code",
   "execution_count": 8,
   "id": "f25325b1-41ad-4548-9eed-42811e58920a",
   "metadata": {},
   "outputs": [],
   "source": [
    "def plusik(pol1,pol2):\n",
    "    pol1 = np.array(pol1)\n",
    "    pol2 = np.array(pol2)\n",
    "\n",
    "    a = len(pol1)\n",
    "    b = len(pol2)\n",
    "    d = abs(a-b)\n",
    "    t = 0\n",
    "    if a>b:\n",
    "        z = np.zeros(d)\n",
    "        t = np.concatenate((z,pol2),axis =0) + pol1\n",
    "    else:\n",
    "        z = np.zeros(d)\n",
    "        t = np.concatenate((z,pol),axis =0) + pol2\n",
    "    return t"
   ]
  },
  {
   "cell_type": "code",
   "execution_count": 9,
   "id": "8df7b17e-c7b5-440e-9343-336a2e9a5a54",
   "metadata": {},
   "outputs": [
    {
     "name": "stdout",
     "output_type": "stream",
     "text": [
      "[ 1.  2.  0.  1. -3. -3.  5.]\n"
     ]
    }
   ],
   "source": [
    "pol1 = [1,2,0,0,-3,0,4]\n",
    "pol2 = [1,0,-3,1]\n",
    "print(plusik(pol1,pol2))"
   ]
  },
  {
   "cell_type": "markdown",
   "id": "b1a4899f-124e-44d9-af90-7ede9e3e4186",
   "metadata": {},
   "source": [
    "## Упражнение 5"
   ]
  },
  {
   "cell_type": "code",
   "execution_count": 24,
   "id": "c6fc7369-8c7a-4f4e-8ea1-059f806d761a",
   "metadata": {},
   "outputs": [
    {
     "name": "stdout",
     "output_type": "stream",
     "text": [
      "[ 1 -1  0 -3  0 -2]\n",
      "[ 1  0  0  0  0 -3  1]\n",
      "[ 11 -10   0 -24   0 -30  20  -4  27  -6   6]\n",
      "[array([0.])]\n",
      "[ 5 -4  0 -6  0]\n",
      "[ 6  0  0  0  0 -3]\n"
     ]
    }
   ],
   "source": [
    "pol1 = np.array([1,-1,0,-3,0,-2])\n",
    "pol2 = np.array([1,0,0,0,0,-3,1])\n",
    "su = np.polyder(np.convolve(pol1,pol2))\n",
    "ch = np.polyder(np.polydiv(pol1,pol2))\n",
    "gg = np.polyder(pol1)\n",
    "gg1 = np.polyder(pol2)\n",
    "print(pol1, pol2, su, ch, gg, gg1, sep = '\\n')"
   ]
  },
  {
   "cell_type": "markdown",
   "id": "4c5c30d0-cce0-4294-b972-632c8d6507b0",
   "metadata": {},
   "source": [
    "## Упражнение 6"
   ]
  },
  {
   "cell_type": "code",
   "execution_count": 26,
   "id": "d131bf16-615b-4ab7-ad50-258e571bdd6f",
   "metadata": {},
   "outputs": [],
   "source": [
    "def aa(p):\n",
    "    return np.polyder(p,5)"
   ]
  },
  {
   "cell_type": "code",
   "execution_count": 27,
   "id": "25e53e56-2d88-4fbd-b00d-eb8e1607a518",
   "metadata": {},
   "outputs": [
    {
     "name": "stdout",
     "output_type": "stream",
     "text": [
      "-91.1232\n",
      "[30240     0     0 -2520     0     0]\n"
     ]
    }
   ],
   "source": [
    "vec = (1,0,0,-1,0,0,0,0,3,0,-2)\n",
    "t = aa(vec)\n",
    "print(np.polyval(t,0.2))\n",
    "print(t)    "
   ]
  },
  {
   "cell_type": "markdown",
   "id": "8d5ed4b3-ae5a-4404-9f4b-6a1f349eda67",
   "metadata": {},
   "source": [
    "## Упражнение 7"
   ]
  },
  {
   "cell_type": "code",
   "execution_count": 41,
   "id": "62cf48ff-2306-4e22-95c6-e0fee5ba134b",
   "metadata": {},
   "outputs": [],
   "source": [
    "import math\n",
    "def Teilor(poly,point,n):\n",
    "    b = []\n",
    "    ans = 0\n",
    "    for i in range(n):\n",
    "        pr = np.polyder(poly,i)\n",
    "        k = np.polyval(pr,point)/math.factorial(i)\n",
    "        b.append(k)\n",
    "    return b[::-1]\n",
    "\n"
   ]
  },
  {
   "cell_type": "code",
   "execution_count": 42,
   "id": "1c0ce440-469c-4c7c-988d-9ab2df91da6f",
   "metadata": {},
   "outputs": [
    {
     "name": "stdout",
     "output_type": "stream",
     "text": [
      "[6.0, 17.0, 28.0, 27.0, 11.0, -2.0]\n",
      "[-12.0, 62.0, -176.0, 288.0, -259.0, 100.0]\n"
     ]
    }
   ],
   "source": [
    "p = [1,0,2,0,0,-3,-2]\n",
    "step1 = [1,-1]\n",
    "step2 = [1,2]\n",
    "print(Teilor(p,1,6))\n",
    "print(Teilor(p,-2,6))\n"
   ]
  },
  {
   "cell_type": "markdown",
   "id": "fe9614b6-8d91-448b-82a8-f7ab90a7f017",
   "metadata": {},
   "source": [
    "# C1"
   ]
  },
  {
   "cell_type": "code",
   "execution_count": 15,
   "id": "898b6540-2e19-45c8-a310-ffc5b9542ef1",
   "metadata": {},
   "outputs": [
    {
     "name": "stdout",
     "output_type": "stream",
     "text": [
      "[-1. +0.j        -0.5+0.8660254j -0.5-0.8660254j  0.5+0.8660254j\n",
      "  0.5-0.8660254j  1. +0.j       ]\n",
      "[ 1.00000000e+00 -2.10942375e-15  7.77156117e-16 -1.55431223e-15\n",
      "  6.66133815e-16 -5.55111512e-16 -1.00000000e+00]\n"
     ]
    }
   ],
   "source": [
    "pol1 = [1,0,0,0,0,0,-1]\n",
    "a = np.roots(pol1)\n",
    "print(a)\n",
    "print(np.poly(a))"
   ]
  },
  {
   "cell_type": "markdown",
   "id": "7115c5a6-da34-4abc-849a-fe215b076da0",
   "metadata": {},
   "source": [
    "# C2"
   ]
  },
  {
   "cell_type": "code",
   "execution_count": 16,
   "id": "6fb9668b-7827-423d-8b9e-a41e7662c69d",
   "metadata": {},
   "outputs": [
    {
     "name": "stdout",
     "output_type": "stream",
     "text": [
      "[1 1 1]\n",
      "[ 1 -1]\n",
      "[1. 2.]\n",
      "[3.]\n",
      "[ 1  0  0 -1]\n",
      "[1. 2. 0.]\n"
     ]
    }
   ],
   "source": [
    "pol1 = np.array([1,1,1])\n",
    "pol2 = np.array([1,-1])\n",
    "cel,os = np.polydiv(pol1,pol2)\n",
    "pro = np.convolve(pol1,pol2)\n",
    "plus = plusik(pol1,pol2)\n",
    "print(pol1, pol2,cel,os, pro, plus, sep = '\\n')"
   ]
  },
  {
   "cell_type": "markdown",
   "id": "4b09b0ea-cd48-4370-8bdb-8ed0d4c63375",
   "metadata": {},
   "source": [
    "# C3"
   ]
  },
  {
   "cell_type": "code",
   "execution_count": 17,
   "id": "d316a8d6-4ec4-4747-808c-ba7bc0fce4ff",
   "metadata": {},
   "outputs": [
    {
     "name": "stdout",
     "output_type": "stream",
     "text": [
      "[1.0, 4.0, 4.0]\n"
     ]
    }
   ],
   "source": [
    "p = np.array([1,-2,0,1])\n",
    "step = np.array([1,-2])\n",
    "\n",
    "g = Teilor(p,2,3)\n",
    "\n",
    "print(g)"
   ]
  },
  {
   "cell_type": "code",
   "execution_count": null,
   "id": "6c7e0b63-a473-4632-9914-579adf2c759f",
   "metadata": {},
   "outputs": [],
   "source": []
  }
 ],
 "metadata": {
  "kernelspec": {
   "display_name": "Python 3 (ipykernel)",
   "language": "python",
   "name": "python3"
  },
  "language_info": {
   "codemirror_mode": {
    "name": "ipython",
    "version": 3
   },
   "file_extension": ".py",
   "mimetype": "text/x-python",
   "name": "python",
   "nbconvert_exporter": "python",
   "pygments_lexer": "ipython3",
   "version": "3.9.13"
  }
 },
 "nbformat": 4,
 "nbformat_minor": 5
}
