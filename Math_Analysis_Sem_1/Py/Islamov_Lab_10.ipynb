{
 "cells": [
  {
   "cell_type": "code",
   "execution_count": 1,
   "id": "8af028ae-309b-41f5-8e8f-c87505d2d159",
   "metadata": {},
   "outputs": [],
   "source": [
    "import matplotlib.pyplot as plt\n",
    "import sympy as sp \n",
    "import numpy as np\n",
    "x = sp.symbols('x')\n",
    "import math"
   ]
  },
  {
   "cell_type": "code",
   "execution_count": 2,
   "id": "ecfe82ec-50f5-42e0-a5ea-97acaffb6b5e",
   "metadata": {},
   "outputs": [],
   "source": [
    "def Taylor0(f,x0,n):    \n",
    "    poly=0\n",
    "    for j in range(n+1):\n",
    "        poly += (sp.diff(f,x,j).subs(x,x0)) * (x-x0)**j/math.factorial(j)\n",
    "    print(poly)\n",
    "    \n",
    "    tt = np.linspace(x0-10,x0+10, 200)\n",
    "    if poly != 1:\n",
    "        f = sp.lambdify(x, poly)\n",
    "        plt.plot(tt,f(tt), 'b--')\n",
    "        plt.grid()\n",
    "    else:\n",
    "        f = np.ones(200)\n",
    "        plt.plot(tt,f, 'b--')\n",
    "        plt.grid()\n",
    "    plt.plot(x0,poly.subs(x,x0),'go')\n",
    "    plt.ylim(-5,5)\n",
    "    return poly\n"
   ]
  },
  {
   "cell_type": "code",
   "execution_count": 3,
   "id": "b27ad1f4-ddb5-4aa8-bf22-3d77a4c24c65",
   "metadata": {},
   "outputs": [],
   "source": [
    "\n",
    "def Taylor1(func, point, n):\n",
    "    y = sp.lambdify(x,func)\n",
    "    t = np.linspace(-10+point,10+point,1000)\n",
    "    \n",
    "    plt.plot(t, y(t))\n",
    "\n",
    "    plt.ylim(-20,20)\n",
    "    from scipy.interpolate import approximate_taylor_polynomial\n",
    "    func_taylor = approximate_taylor_polynomial(y, point, n,1, order=n + 2)\n",
    "    plt.plot(t, func_taylor(t))\n",
    "    plt.grid()\n"
   ]
  },
  {
   "cell_type": "code",
   "execution_count": 4,
   "id": "a41b28c5-2fe3-49e9-9446-2d544510b80d",
   "metadata": {},
   "outputs": [],
   "source": [
    "def Taylor3(func,x0,n):\n",
    "    poly=0\n",
    "    for i in range(n+1):\n",
    "        poly+= (sp.diff(func,x,i).subs(x,x0)) * (x-x0)**i/math.factorial(i)\n",
    "    print(poly)        \n",
    "    inter = np.linspace(x0-1,x0+1,200)\n",
    "    f = lambda x: poly\n",
    "    plt.plot(inter, f(inter))\n",
    "    plt.grid()"
   ]
  },
  {
   "cell_type": "code",
   "execution_count": 5,
   "id": "023b94c0-de9a-49e3-9db9-bfd2059d9d41",
   "metadata": {},
   "outputs": [],
   "source": [
    "\n",
    "def Taylor2(func,x0,n):\n",
    "    poly=0\n",
    "    for i in range(n+1):\n",
    "        poly+= (sp.diff(func,x,i).subs(x,x0)) * (x-x0)**i/math.factorial(i)\n",
    "    print(poly)\n",
    "    \n",
    "    tt = np.linspace(x0-2,x0+2, 200)\n",
    "    \n",
    "    if poly != 1:\n",
    "        f = sp.lambdify(x, poly)\n",
    "        plt.plot(tt,f(tt), 'b--')\n",
    "        plt.grid()\n",
    "    else:\n",
    "        f = np.ones(200)\n",
    "        plt.plot(tt,f, 'b--')\n",
    "        plt.grid()\n",
    "    return poly"
   ]
  },
  {
   "cell_type": "markdown",
   "id": "8ae4ac42-19a7-4079-9da1-a870a27cf7fc",
   "metadata": {},
   "source": [
    "## Task 1"
   ]
  },
  {
   "cell_type": "code",
   "execution_count": 6,
   "id": "5f806741-2cd1-4b6c-b991-383e14ca251f",
   "metadata": {},
   "outputs": [],
   "source": [
    "arr = []\n",
    "x = sp.symbols('x')\n",
    "for i in range(1,6):\n",
    "    y = sp.lambdify(x,sp.diff(sp.cos(x),x,i))\n",
    "    arr.append(y(1))\n",
    "f = open('task1', 'a')\n",
    "for j in range(1,6):\n",
    "    #f.write('| {j:7.4f} | {t:11.5f} |\\n'.format(j=j, t = arr[j-1]));\n",
    "    \n",
    "    f.write(f\" | {j} |   {str(arr[j-1])[:10]}   |\\n\")\n",
    "f.close();"
   ]
  },
  {
   "cell_type": "markdown",
   "id": "613049ed-6bda-4396-acc4-c37f7d3bb2f0",
   "metadata": {
    "tags": []
   },
   "source": [
    "## Task 2"
   ]
  },
  {
   "cell_type": "code",
   "execution_count": null,
   "id": "c2c84fe6-34cf-4627-a84c-27b8296178f5",
   "metadata": {},
   "outputs": [],
   "source": []
  },
  {
   "cell_type": "code",
   "execution_count": 7,
   "id": "cd12dee6-8875-4f1e-9339-ca2c987dd8af",
   "metadata": {},
   "outputs": [
    {
     "name": "stdout",
     "output_type": "stream",
     "text": [
      "-x**10/3628800 + x**8/40320 - x**6/720 + x**4/24 - x**2/2 + 1\n"
     ]
    },
    {
     "data": {
      "text/plain": [
       "''"
      ]
     },
     "execution_count": 7,
     "metadata": {},
     "output_type": "execute_result"
    },
    {
     "data": {
      "image/png": "[encoded data removed]",
      "text/plain": [
       "<Figure size 432x288 with 1 Axes>"
      ]
     },
     "metadata": {
      "needs_background": "light"
     },
     "output_type": "display_data"
    }
   ],
   "source": [
    "x = sp.symbols('x')\n",
    "Taylor0(sp.cos(x),0,10)\n",
    "tt = np.linspace(-10,10,500)\n",
    "plt.plot(tt,np.cos(tt),'r-')\n",
    "''"
   ]
  },
  {
   "cell_type": "code",
   "execution_count": 8,
   "id": "574cb239-4a63-49a3-93bc-230a1594dc89",
   "metadata": {},
   "outputs": [],
   "source": [
    "\n",
    "def Taylor01(func,x0,n):\n",
    "    poly=0\n",
    "    for i in range(n+1):\n",
    "        poly+= (sp.diff(func,x,i).subs(x,x0)) * (x-x0)**i/math.factorial(i)\n",
    "    print(poly)        \n",
    "\n",
    "    \n",
    "    "
   ]
  },
  {
   "cell_type": "code",
   "execution_count": 9,
   "id": "889ced33-9a42-4f77-9253-1118b0bf5edd",
   "metadata": {},
   "outputs": [
    {
     "name": "stdout",
     "output_type": "stream",
     "text": [
      "1 - x**2/2\n"
     ]
    }
   ],
   "source": [
    "Taylor01(sp.cos(x),0,3)"
   ]
  },
  {
   "cell_type": "code",
   "execution_count": 10,
   "id": "e8464995-92d4-45b1-9b39-9cf92903c3b0",
   "metadata": {},
   "outputs": [
    {
     "name": "stdout",
     "output_type": "stream",
     "text": [
      "-x**3/6 + x\n"
     ]
    }
   ],
   "source": [
    "Taylor01(sp.sin(x),0,3)"
   ]
  },
  {
   "cell_type": "code",
   "execution_count": 11,
   "id": "2f840623-2a89-4659-b8e4-c5ce9bbc6984",
   "metadata": {},
   "outputs": [
    {
     "name": "stdout",
     "output_type": "stream",
     "text": [
      "x**3/3 - x**2/2 + x\n"
     ]
    }
   ],
   "source": [
    "Taylor01(sp.log(x+1),0,3)"
   ]
  },
  {
   "cell_type": "markdown",
   "id": "479af8a7-b566-43b8-b967-b3e00b0668e7",
   "metadata": {},
   "source": [
    "## Task 3"
   ]
  },
  {
   "cell_type": "code",
   "execution_count": null,
   "id": "0f8547db-b38d-43d1-b751-ccb9727c094c",
   "metadata": {},
   "outputs": [],
   "source": []
  },
  {
   "cell_type": "code",
   "execution_count": 12,
   "id": "b0c449da-fe73-4525-9251-d3941be4fb42",
   "metadata": {},
   "outputs": [],
   "source": [
    "from scipy.interpolate import approximate_taylor_polynomial\n"
   ]
  },
  {
   "cell_type": "markdown",
   "id": "3824cda5-e0af-4258-8b39-c3c77a9c929f",
   "metadata": {},
   "source": [
    "import numpy as np\n",
    "import matplotlib.pyplot as plt\n",
    "\n",
    "x = np.linspace(-10.0, 10.0, num=100)\n",
    "plt.plot(x, np.sin(x), label=\"sin curve\")\n",
    "\n",
    "for degree in np.arange(1, 15, step=2):\n",
    "    sin_taylor = approximate_taylor_polynomial(np.sin, 0, degree,1, order=degree + 2)\n",
    "    plt.plot(x, sin_taylor(x), label=f\"degree={degree}\")\n",
    "    \n",
    "plt.legend(bbox_to_anchor=(1.05, 1), loc='upper left', borderaxespad=0.0, shadow=True)\n",
    "plt.tight_layout()\n",
    "plt.axis([-10, 10, -10, 10])\n",
    "plt.title('Taylor polynomial for sin function')\n",
    "plt.xlabel('x')\n",
    "plt.ylabel('y')\n",
    "plt.grid()\n",
    "plt.show()"
   ]
  },
  {
   "cell_type": "code",
   "execution_count": null,
   "id": "f5ee3513-66fd-4e69-9029-d52e4e0f6d48",
   "metadata": {},
   "outputs": [],
   "source": []
  },
  {
   "cell_type": "code",
   "execution_count": 13,
   "id": "7efa87b0-4390-4873-be5f-34460aeef357",
   "metadata": {},
   "outputs": [
    {
     "name": "stdout",
     "output_type": "stream",
     "text": [
      "x\n",
      "x\n",
      "-x**3/6 + x\n"
     ]
    },
    {
     "data": {
      "image/png": "[encoded data removed]",
      "text/plain": [
       "<Figure size 432x288 with 1 Axes>"
      ]
     },
     "metadata": {
      "needs_background": "light"
     },
     "output_type": "display_data"
    }
   ],
   "source": [
    "Taylor0(sp.sin(x),0,1)\n",
    "Taylor0(sp.sin(x),0,2)\n",
    "Taylor0(sp.sin(x),0,3)\n",
    "t = np.linspace(-20,20,200)\n",
    "y = sp.lambdify(x,sp.sin(x))\n",
    "plt.plot(t,y(t),'r-')\n",
    "plt.show()"
   ]
  },
  {
   "cell_type": "code",
   "execution_count": 14,
   "id": "f2fa1b21-25e6-492d-884f-29be63e2e375",
   "metadata": {},
   "outputs": [
    {
     "name": "stdout",
     "output_type": "stream",
     "text": [
      "1\n",
      "1 - x**2/2\n",
      "x**4/24 - x**2/2 + 1\n"
     ]
    },
    {
     "data": {
      "image/png": "[encoded data removed]",
      "text/plain": [
       "<Figure size 432x288 with 1 Axes>"
      ]
     },
     "metadata": {
      "needs_background": "light"
     },
     "output_type": "display_data"
    }
   ],
   "source": [
    "Taylor0(sp.cos(x),0,1)\n",
    "Taylor0(sp.cos(x),0,2)\n",
    "Taylor0(sp.cos(x),0,4)\n",
    "t = np.linspace(-20,20,200)\n",
    "y = sp.lambdify(x,sp.cos(x))\n",
    "plt.plot(t,y(t),'r-')\n",
    "plt.show()\n"
   ]
  },
  {
   "cell_type": "code",
   "execution_count": 15,
   "id": "1d8a8346-88e1-40f8-8421-47d0d9967062",
   "metadata": {},
   "outputs": [
    {
     "name": "stdout",
     "output_type": "stream",
     "text": [
      "x/5 - 1/5 + log(5)\n",
      "x/5 - (x - 1)**2/50 - 1/5 + log(5)\n",
      "x/5 - (x - 1)**4/2500 + (x - 1)**3/375 - (x - 1)**2/50 - 1/5 + log(5)\n"
     ]
    },
    {
     "data": {
      "image/png": "[encoded data removed]",
      "text/plain": [
       "<Figure size 432x288 with 1 Axes>"
      ]
     },
     "metadata": {
      "needs_background": "light"
     },
     "output_type": "display_data"
    }
   ],
   "source": [
    "Taylor0(sp.log(4+x),1,1)\n",
    "Taylor0(sp.log(x+4),1,2)\n",
    "Taylor0(sp.log(x+4),1,4)\n",
    "t = np.linspace(-3,10,200)\n",
    "y = sp.lambdify(x,sp.log(x+4))\n",
    "plt.plot(t,y(t),'r-')\n",
    "plt.show()"
   ]
  },
  {
   "cell_type": "code",
   "execution_count": null,
   "id": "6d7efa28-0649-4811-90a4-69e87de5a95a",
   "metadata": {},
   "outputs": [],
   "source": []
  },
  {
   "cell_type": "markdown",
   "id": "fc6dd123-6ebe-4232-8618-124a4df09c54",
   "metadata": {},
   "source": [
    "## Упражнение С1"
   ]
  },
  {
   "cell_type": "code",
   "execution_count": 16,
   "id": "e23eac02-ab37-4acb-b21d-036cf13c85d8",
   "metadata": {},
   "outputs": [
    {
     "name": "stdout",
     "output_type": "stream",
     "text": [
      "x/4 + 2\n",
      "-x**2/64 + x/4 + 2\n",
      "-5*x**4/16384 + x**3/512 - x**2/64 + x/4 + 2\n"
     ]
    },
    {
     "data": {
      "image/png": "[encoded data removed]",
      "text/plain": [
       "<Figure size 432x288 with 1 Axes>"
      ]
     },
     "metadata": {
      "needs_background": "light"
     },
     "output_type": "display_data"
    }
   ],
   "source": [
    "\n",
    "Taylor0(sp.root(4+x,2),0,1)\n",
    "Taylor0(sp.root(4+x,2),0,2)\n",
    "Taylor0(sp.root(4+x,2),0,4)\n",
    "t = np.linspace(-3,10,200)\n",
    "y = sp.lambdify(x,sp.root(4+x,2))\n",
    "plt.plot(t,y(t),'r-')\n",
    "plt.show()"
   ]
  },
  {
   "cell_type": "code",
   "execution_count": null,
   "id": "c3f9011b-6cc9-452c-bb13-49869f0714ed",
   "metadata": {},
   "outputs": [],
   "source": []
  },
  {
   "cell_type": "code",
   "execution_count": null,
   "id": "da1c59ec-d501-42a7-b7cf-c540584acf77",
   "metadata": {},
   "outputs": [],
   "source": [
    "Taylor0(sp.sin(x),0,7)\n",
    "t = np.linspace(-20,20,200)\n",
    "y = sp.lambdify(x,sp.sin(x))\n",
    "plt.ylim(-20,20)\n",
    "plt.plot(t,y(t),'r-')\n",
    "plt.show()"
   ]
  },
  {
   "cell_type": "code",
   "execution_count": null,
   "id": "0e258a40-a166-4733-b09e-a67e7eecfb9a",
   "metadata": {},
   "outputs": [],
   "source": [
    "Taylor0(sp.cos(x),0,7)\n",
    "t = np.linspace(-20,20,200)\n",
    "y = sp.lambdify(x,sp.cos(x))\n",
    "plt.ylim(-20,20)\n",
    "plt.plot(t,y(t),'r-')\n",
    "plt.show()"
   ]
  },
  {
   "cell_type": "code",
   "execution_count": null,
   "id": "ac57bc66-aab5-4484-ac8c-777c26279315",
   "metadata": {},
   "outputs": [],
   "source": [
    "Taylor0(np.e**x,0,7)\n",
    "t = np.linspace(-20,20,200)\n",
    "y = sp.lambdify(x,np.e**x)\n",
    "plt.ylim(-20,20)\n",
    "plt.plot(t,y(t),'r-')\n",
    "plt.show()"
   ]
  },
  {
   "cell_type": "code",
   "execution_count": null,
   "id": "92a39466-987a-4d9a-907c-4fa39abd2bff",
   "metadata": {},
   "outputs": [],
   "source": [
    "Taylor0(sp.log(x+1),0,7)\n",
    "t = np.linspace(-0.9,20,200)\n",
    "y = sp.lambdify(x,sp.log(1+x))\n",
    "plt.ylim(-20,20)\n",
    "plt.plot(t,y(t),'r-')\n",
    "plt.show()"
   ]
  },
  {
   "cell_type": "code",
   "execution_count": null,
   "id": "366b1a9d-e2a7-479d-83d4-e076b6fc358b",
   "metadata": {},
   "outputs": [],
   "source": [
    "Taylor0(sp.tan(x),0,7)\n",
    "t = np.linspace(-np.pi/2+0.01,np.pi/2-0.01,2000)\n",
    "y = sp.lambdify(x,sp.tan(x))\n",
    "plt.ylim(-20,20)\n",
    "plt.plot(t,y(t),'r-')\n",
    "plt.show()"
   ]
  },
  {
   "cell_type": "markdown",
   "id": "1f197379-b2d2-4b74-9b06-c789554291e5",
   "metadata": {},
   "source": [
    "## Упражнение С2"
   ]
  },
  {
   "cell_type": "code",
   "execution_count": null,
   "id": "9a415ae4-f096-4cce-897d-da550a5e3cbc",
   "metadata": {},
   "outputs": [],
   "source": [
    "Taylor0(sp.cos(x),np.pi/2,5)\n",
    "t = np.linspace(-20,20,200)\n",
    "y = sp.lambdify(x,sp.cos(x))\n",
    "plt.ylim(-20,20)\n",
    "plt.plot(t,y(t),'r-')\n",
    "plt.show()"
   ]
  },
  {
   "cell_type": "code",
   "execution_count": null,
   "id": "4231f53c-1ada-49a3-a874-840381f6276e",
   "metadata": {},
   "outputs": [],
   "source": [
    "Taylor0(sp.sin(x),np.pi/2,5)\n",
    "t = np.linspace(-20,20,200)\n",
    "y = sp.lambdify(x,sp.sin(x))\n",
    "plt.ylim(-20,20)\n",
    "plt.plot(t,y(t),'r-')\n",
    "plt.show()"
   ]
  },
  {
   "cell_type": "code",
   "execution_count": null,
   "id": "7634fc52-c8fd-4797-9822-7b1407c11210",
   "metadata": {},
   "outputs": [],
   "source": [
    "\n"
   ]
  },
  {
   "cell_type": "code",
   "execution_count": null,
   "id": "4de96517-9163-481c-b2ad-725f02761518",
   "metadata": {},
   "outputs": [],
   "source": []
  }
 ],
 "metadata": {
  "kernelspec": {
   "display_name": "Python 3 (ipykernel)",
   "language": "python",
   "name": "python3"
  },
  "language_info": {
   "codemirror_mode": {
    "name": "ipython",
    "version": 3
   },
   "file_extension": ".py",
   "mimetype": "text/x-python",
   "name": "python",
   "nbconvert_exporter": "python",
   "pygments_lexer": "ipython3",
   "version": "3.9.13"
  }
 },
 "nbformat": 4,
 "nbformat_minor": 5
}
