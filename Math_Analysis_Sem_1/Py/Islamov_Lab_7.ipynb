{
 "cells": [
  {
   "cell_type": "code",
   "execution_count": 1,
   "id": "ce418341-bae1-4346-8ebc-d03375e771f9",
   "metadata": {},
   "outputs": [],
   "source": [
    "import matplotlib.pyplot as plt\n",
    "import sympy as sp \n",
    "import numpy as np\n",
    "from sympy.abc import x"
   ]
  },
  {
   "cell_type": "code",
   "execution_count": 2,
   "id": "6d51f076-7889-408f-a908-0adc25c6b217",
   "metadata": {},
   "outputs": [
    {
     "name": "stdout",
     "output_type": "stream",
     "text": [
      "x = 0.7853981633974484\n",
      "f(x) = -1.1102230246251565e-16\n"
     ]
    }
   ],
   "source": [
    "from scipy import optimize\n",
    "from math import sin , cos, pi\n",
    "def f(x):\n",
    "    return (cos(x)-sin(x))\n",
    "root = optimize.brentq(f, 0, pi/2)\n",
    "print('x =',root)\n",
    "print('f(x) =',f(root))\n"
   ]
  },
  {
   "cell_type": "code",
   "execution_count": 3,
   "id": "c4a16eeb-50b3-4068-a7dc-efb6dd67d257",
   "metadata": {},
   "outputs": [
    {
     "name": "stdout",
     "output_type": "stream",
     "text": [
      "x = 1.570796326793586\n",
      "f(x) = 763027653393.7319\n"
     ]
    }
   ],
   "source": [
    "from math import tan\n",
    "def f(x):\n",
    "    return (tan(x))\n",
    "root = optimize.brentq(f, 1, 2)\n",
    "print('x =',root)\n",
    "print('f(x) =',f(root))\n"
   ]
  },
  {
   "cell_type": "code",
   "execution_count": 4,
   "id": "e1b63c6b-82ed-4bb5-9eb0-9ac9e04f7dbc",
   "metadata": {},
   "outputs": [
    {
     "name": "stdout",
     "output_type": "stream",
     "text": [
      "x1 = 0.89048708074438\n",
      "f(x1) = 2.7755575615628914e-17 \n",
      "\n",
      "x2 = 2.849968934455141\n",
      "f(x2) = 6.661338147750939e-16 \n",
      "\n",
      "x3 = 5.8128260902615505\n",
      "f(x3) = -2.220446049250313e-16 \n",
      "\n"
     ]
    }
   ],
   "source": [
    "def f(x):\n",
    "    return (sin(x)- 1 + x/4)\n",
    "x1 = optimize.brentq(f, 0, 1)\n",
    "print('x1 =',x1)\n",
    "print('f(x1) =',f(x1),'\\n')\n",
    "x2 = optimize.brentq(f, 2, 3)\n",
    "print('x2 =',x2)\n",
    "print('f(x2) =',f(x2),'\\n')\n",
    "5\n",
    "x3 = optimize.brentq(f, 5, 6)\n",
    "print('x3 =',x3)\n",
    "print('f(x3) =',f(x3),'\\n')\n"
   ]
  },
  {
   "cell_type": "code",
   "execution_count": 5,
   "id": "ebe25991-6c78-4dcb-85bf-38d680a06ec0",
   "metadata": {},
   "outputs": [],
   "source": [
    "def drawp(func, a, b, point):\n",
    "    \n",
    "    t1 = np.linspace(a,point-0.1,500)\n",
    "    t2 = np.linspace(point +0.1,b,500)\n",
    "    y = sp.lambdify(x,func)\n",
    "    plt.grid()\n",
    "    plt.axhline(y=0, color='k')\n",
    "    plt.axvline(x=0, color='k')\n",
    "    plt.plot(t1, y(t1), 'g')\n",
    "    plt.plot(t2, y(t2), 'b')\n",
    "    \n",
    "    plt.plot(point,0, 'ro')\n",
    "    plt.plot(point,0, 'w.')\n",
    "    \n",
    "def draw(func, a, b):\n",
    "    \n",
    "    t1 = np.linspace(a,b)\n",
    "    y = sp.lambdify(x,func)\n",
    "    plt.grid()\n",
    "    plt.axhline(y=0, color='k')\n",
    "    plt.axvline(x=0, color='k')\n",
    "    plt.plot(t1, y(t1), 'g')\n",
    "    "
   ]
  },
  {
   "cell_type": "markdown",
   "id": "23e1ca16-e620-4f31-b898-acff9377a383",
   "metadata": {},
   "source": [
    "## Упражнение 1\n",
    "Для следующих функций найти точки разрыва, исследовать \n",
    "их характер, сделать геометрическую иллюстрацию:\n"
   ]
  },
  {
   "cell_type": "code",
   "execution_count": 26,
   "id": "0cedaed2-a5dc-4df4-b04c-7eb9c2482913",
   "metadata": {},
   "outputs": [
    {
     "data": {
      "image/png": "[encoded data removed]",
      "text/plain": [
       "<Figure size 432x288 with 1 Axes>"
      ]
     },
     "metadata": {
      "needs_background": "light"
     },
     "output_type": "display_data"
    }
   ],
   "source": [
    "# A\n",
    "x = sp.symbols('x')\n",
    "f1 = (x**2 - 4)/abs(x**2 - 4)\n",
    "drawp(f1,-5,0,-2)\n",
    "drawp(f1,0, 5,2)\n",
    "plt.grid()"
   ]
  },
  {
   "cell_type": "code",
   "execution_count": 7,
   "id": "72794bc2-e3e8-4f4c-95df-f1622b59d8be",
   "metadata": {},
   "outputs": [
    {
     "data": {
      "text/plain": [
       "(-2.0, 20.0)"
      ]
     },
     "execution_count": 7,
     "metadata": {},
     "output_type": "execute_result"
    },
    {
     "data": {
      "image/png": "[encoded data removed]",
      "text/plain": [
       "<Figure size 432x288 with 1 Axes>"
      ]
     },
     "metadata": {
      "needs_background": "light"
     },
     "output_type": "display_data"
    }
   ],
   "source": [
    "# B\n",
    "f = np.e**(1/(x-2))\n",
    "drawp(f, -5, 5, 2)\n",
    "plt.ylim(-2,20)"
   ]
  },
  {
   "cell_type": "markdown",
   "id": "856bf023-efb0-4554-81f0-51a557a350f3",
   "metadata": {},
   "source": [
    "## Упражнение 2.\n",
    "Найдите все корни уравнений:"
   ]
  },
  {
   "cell_type": "code",
   "execution_count": 8,
   "id": "43c4ae17-b39c-4292-8b19-1c0e265e9c12",
   "metadata": {},
   "outputs": [
    {
     "name": "stdout",
     "output_type": "stream",
     "text": [
      "3.123588619256114 0.0\n",
      "\n",
      "0.8172611734488631 9.36140054363932e-13\n"
     ]
    }
   ],
   "source": [
    "from scipy import optimize\n",
    "y = lambda x: np.e**(x/2) -3 - x**0.5\n",
    "y1 = lambda x: x**3 - 8*x**2 + 17*x + x**0.5 -10\n",
    "fir = optimize.brentq(y, 0, 5)\n",
    "sec = optimize.brentq(y1, 0, 10)\n",
    "print(fir, y(fir))\n",
    "print()\n",
    "print(sec, y1(sec))"
   ]
  },
  {
   "cell_type": "code",
   "execution_count": 9,
   "id": "c2070f54-bf47-49b0-89c6-014035b5abc3",
   "metadata": {},
   "outputs": [
    {
     "name": "stdout",
     "output_type": "stream",
     "text": [
      "[-1, 1, -1/2 - sqrt(3)*I/2, -1/2 + sqrt(3)*I/2]\n"
     ]
    }
   ],
   "source": [
    "from sympy.solvers import solve\n",
    "from sympy import Symbol\n",
    "x = Symbol('x')\n",
    "ans=solve(x**4 + x**3 - x - 1, x)\n",
    "print(ans)"
   ]
  },
  {
   "cell_type": "code",
   "execution_count": 10,
   "id": "34ed88c4-a2be-478b-b312-63e94d696716",
   "metadata": {},
   "outputs": [
    {
     "name": "stdout",
     "output_type": "stream",
     "text": [
      "x =  -1.93456321075202\n",
      "f(x) =  0\n"
     ]
    }
   ],
   "source": [
    "from sympy.solvers import nsolve\n",
    "from sympy import Symbol, sin\n",
    "x = Symbol('x')\n",
    "eq = sin(x) - x - 1\n",
    "a = nsolve(eq, -1)\n",
    "print ('x = ', a)\n",
    "print ('f(x) = ', eq.subs(x,a))"
   ]
  },
  {
   "cell_type": "markdown",
   "id": "968a84e9-3245-47bf-b0a4-0f30cf65b0a1",
   "metadata": {},
   "source": [
    "## Упражнение 3\n",
    "Решите следующие уравнения. Попробуйте определить, являются ли полученные решения точными или \n",
    "приближёнными"
   ]
  },
  {
   "cell_type": "code",
   "execution_count": 11,
   "id": "db2e6579-7579-42d0-82d7-c276f5678c7d",
   "metadata": {},
   "outputs": [
    {
     "name": "stdout",
     "output_type": "stream",
     "text": [
      "-0.210003079637967 + 0.16060456040024*I\n",
      "0\n",
      "-0.284818617606917*(-1 + 0.764772405610018*I)**2.71828182845905 + 2.71828182845905**(-0.6300092389139 + 0.48181368120072*I)\n"
     ]
    }
   ],
   "source": [
    "from sympy.solvers import nsolve\n",
    "x = Symbol('x')\n",
    "e = np.e\n",
    "ans = nsolve(e**(3*x) - (3*x)**e,0) # приближённый ответ\n",
    "ans1 = nsolve(sp.sin(x) - x/3,0) # точный ответ\n",
    "print(ans)\n",
    "print(ans1)\n",
    "\n",
    "y = e**(3*x) - (3*x)**e\n",
    "print(sp.simplify(y.subs(x,ans)))"
   ]
  },
  {
   "cell_type": "code",
   "execution_count": 12,
   "id": "da02ee8b-1e3e-4c33-b238-e9a7b2859f4f",
   "metadata": {},
   "outputs": [
    {
     "data": {
      "text/plain": [
       "(2.220446049250313e-15-5.9674487573602164e-15j)"
      ]
     },
     "execution_count": 12,
     "metadata": {},
     "output_type": "execute_result"
    }
   ],
   "source": [
    "-0.284818617606917*(-1 + 0.764772405610018*1j)**2.71828182845905 + 2.71828182845905**(-0.6300092389139 + 0.48181368120072*1j)"
   ]
  },
  {
   "cell_type": "code",
   "execution_count": 13,
   "id": "12f2745a-00c3-4417-9bca-55d116742632",
   "metadata": {},
   "outputs": [
    {
     "name": "stdout",
     "output_type": "stream",
     "text": [
      "x =  Matrix([[-1.82842712474619], [1.34314575050762]])\n",
      "x =  Matrix([[3.82842712474619], [12.6568542494924]])\n"
     ]
    }
   ],
   "source": [
    "from sympy.solvers import nsolve\n",
    "from sympy import Symbol, sin\n",
    "x = Symbol('x')\n",
    "y = Symbol('y')\n",
    "\n",
    "f1 = x**2 - y - 2\n",
    "f2 = y-2*x-5\n",
    "a = nsolve((f1, f2), (x, y), (0, 0))\n",
    "print('x = ', a)\n",
    "a = nsolve((f1, f2), (x, y), (3, 12))\n",
    "print('x = ', a)"
   ]
  },
  {
   "cell_type": "markdown",
   "id": "533214c4-b9bb-43fb-bb15-8260be9af476",
   "metadata": {},
   "source": [
    "## Упражнение 4\n",
    "Решите систему уравнений:"
   ]
  },
  {
   "cell_type": "code",
   "execution_count": 14,
   "id": "730f80bb-a6e9-4b47-8458-ee59f0faf31a",
   "metadata": {},
   "outputs": [
    {
     "name": "stdout",
     "output_type": "stream",
     "text": [
      "Matrix([[11.0551181102362], [-6.44094488188976], [-0.417322834645669], [0.685039370078740]])\n"
     ]
    }
   ],
   "source": [
    "w,x,y,z = sp.symbols('w x y z')\n",
    "y1 = w + x + 4*y + 3*z -5 \n",
    "y2 = 2*w + 3*x + y - 2*z -1 \n",
    "y3 = w + 2*x - 5*y + 4*z -3\n",
    "y4 = w - 3*z - 9\n",
    "\n",
    "a = sp.nsolve((y1, y2,y3,y4), (w, x, y, z), (0, 0, 0, 0))\n",
    "print(a)"
   ]
  },
  {
   "cell_type": "markdown",
   "id": "3e59d6d8-49a1-440c-a1e5-705ab5367c1e",
   "metadata": {},
   "source": [
    "## Упражнение С1\n",
    "Для следующих функций найти точки разрыва, исследовать их характер, сделать геометрическую иллюстрацию:"
   ]
  },
  {
   "cell_type": "code",
   "execution_count": 15,
   "id": "c9f01538-432c-4ccd-a1d8-9596def86a3d",
   "metadata": {},
   "outputs": [
    {
     "data": {
      "text/plain": [
       "[<matplotlib.lines.Line2D at 0x26800408430>]"
      ]
     },
     "execution_count": 15,
     "metadata": {},
     "output_type": "execute_result"
    },
    {
     "data": {
      "image/png": "[encoded data removed]",
      "text/plain": [
       "<Figure size 432x288 with 1 Axes>"
      ]
     },
     "metadata": {
      "needs_background": "light"
     },
     "output_type": "display_data"
    }
   ],
   "source": [
    "y = sp.asin(x)/x\n",
    "draw(y,-0.99, -0.001)\n",
    "draw(y,0.001, 0.99)\n",
    "plt.grid()\n",
    "plt.plot(0,1,'ro')"
   ]
  },
  {
   "cell_type": "code",
   "execution_count": 16,
   "id": "2f880c34-8d5a-4ffa-b443-bbdec825c221",
   "metadata": {},
   "outputs": [
    {
     "data": {
      "image/png": "[encoded data removed]",
      "text/plain": [
       "<Figure size 432x288 with 1 Axes>"
      ]
     },
     "metadata": {
      "needs_background": "light"
     },
     "output_type": "display_data"
    }
   ],
   "source": [
    "y1 = 2/(x**2 - 1)\n",
    "drawp(y1,-10, 0, -1)\n",
    "drawp(y1,0, 10, 1)\n",
    "plt.grid()\n"
   ]
  },
  {
   "cell_type": "markdown",
   "id": "e91847a9-05d4-4212-9c06-f869c88bd274",
   "metadata": {},
   "source": [
    "## Упражнение С2.\n",
    "Найдите все корни уравнения "
   ]
  },
  {
   "cell_type": "code",
   "execution_count": 17,
   "id": "19e86859-8f24-43dc-b49f-5bb5ced9cc45",
   "metadata": {},
   "outputs": [
    {
     "name": "stdout",
     "output_type": "stream",
     "text": [
      "0.218496839091756 -4.44089209850063e-16\n"
     ]
    }
   ],
   "source": [
    "y = x**2 - 5*sp.sin(3*x) + 3\n",
    "a = nsolve(y,x,0)\n",
    "y = lambda x: x**2 - 5*sp.sin(3*x) + 3\n",
    "print(a, y(a))"
   ]
  },
  {
   "cell_type": "markdown",
   "id": "e5694def-8d7b-46e3-beec-bc08cc6ac947",
   "metadata": {},
   "source": [
    "## Упражнение С3. \n",
    "Решите следующие уравнения:"
   ]
  },
  {
   "cell_type": "code",
   "execution_count": 18,
   "id": "890ad832-fda1-45d3-a98a-f94e40245815",
   "metadata": {},
   "outputs": [
    {
     "data": {
      "image/png": "[encoded data removed]",
      "text/plain": [
       "<Figure size 432x288 with 1 Axes>"
      ]
     },
     "metadata": {
      "needs_background": "light"
     },
     "output_type": "display_data"
    }
   ],
   "source": [
    "y = x + 1/x -2\n",
    "drawp(y,-10, 10, 0)"
   ]
  },
  {
   "cell_type": "code",
   "execution_count": 19,
   "id": "8fdb4e06-a08b-4b0c-8728-ead769a1e635",
   "metadata": {},
   "outputs": [
    {
     "data": {
      "image/png": "[encoded data removed]",
      "text/plain": [
       "<Figure size 432x288 with 1 Axes>"
      ]
     },
     "metadata": {
      "needs_background": "light"
     },
     "output_type": "display_data"
    }
   ],
   "source": [
    "y1 = sp.log((1+x)*(1-x**2))\n",
    "drawp(y1,-10, 0.99, -1)\n",
    "plt.grid()\n",
    "plt.plot(1,0, 'ro')\n",
    "plt.plot(1,0, 'w.')\n",
    "plt.grid()"
   ]
  },
  {
   "cell_type": "code",
   "execution_count": null,
   "id": "ae81dbac-8984-4fca-a05f-3f6a938c0a97",
   "metadata": {},
   "outputs": [],
   "source": []
  },
  {
   "cell_type": "code",
   "execution_count": null,
   "id": "9663dd81-6ab4-481d-9880-adc83d9720b5",
   "metadata": {},
   "outputs": [],
   "source": []
  },
  {
   "cell_type": "code",
   "execution_count": null,
   "id": "34096cb3-6aae-467b-9d1a-77688b1dd148",
   "metadata": {},
   "outputs": [],
   "source": []
  },
  {
   "cell_type": "code",
   "execution_count": null,
   "id": "bfa6292c-4045-4015-950f-16003811e6e3",
   "metadata": {},
   "outputs": [],
   "source": []
  },
  {
   "cell_type": "code",
   "execution_count": null,
   "id": "a7ead751-7752-4b7f-b0c7-0e22e78c9c5a",
   "metadata": {},
   "outputs": [],
   "source": []
  }
 ],
 "metadata": {
  "kernelspec": {
   "display_name": "Python 3 (ipykernel)",
   "language": "python",
   "name": "python3"
  },
  "language_info": {
   "codemirror_mode": {
    "name": "ipython",
    "version": 3
   },
   "file_extension": ".py",
   "mimetype": "text/x-python",
   "name": "python",
   "nbconvert_exporter": "python",
   "pygments_lexer": "ipython3",
   "version": "3.9.13"
  }
 },
 "nbformat": 4,
 "nbformat_minor": 5
}
